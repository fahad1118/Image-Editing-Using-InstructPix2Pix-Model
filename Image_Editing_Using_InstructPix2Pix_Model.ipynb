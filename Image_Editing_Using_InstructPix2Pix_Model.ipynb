{
  "nbformat": 4,
  "nbformat_minor": 0,
  "metadata": {
    "colab": {
      "provenance": [],
      "machine_shape": "hm"
    },
    "kernelspec": {
      "name": "python3",
      "display_name": "Python 3"
    },
    "language_info": {
      "name": "python"
    },
    "widgets": {
      "application/vnd.jupyter.widget-state+json": {
        "437d45eaeece4d54b18b6cfc5eeb576d": {
          "model_module": "@jupyter-widgets/controls",
          "model_name": "HBoxModel",
          "model_module_version": "1.5.0",
          "state": {
            "_dom_classes": [],
            "_model_module": "@jupyter-widgets/controls",
            "_model_module_version": "1.5.0",
            "_model_name": "HBoxModel",
            "_view_count": null,
            "_view_module": "@jupyter-widgets/controls",
            "_view_module_version": "1.5.0",
            "_view_name": "HBoxView",
            "box_style": "",
            "children": [
              "IPY_MODEL_9f8bb0fcd139480ba543bf382b7ae84a",
              "IPY_MODEL_1bfddb35fc9344da87b2a54118c3668f",
              "IPY_MODEL_a24a15d38c084f77938e063ed7ba2a68"
            ],
            "layout": "IPY_MODEL_2d2d6f94be3b4f4d91927a55f1cb6b36"
          }
        },
        "9f8bb0fcd139480ba543bf382b7ae84a": {
          "model_module": "@jupyter-widgets/controls",
          "model_name": "HTMLModel",
          "model_module_version": "1.5.0",
          "state": {
            "_dom_classes": [],
            "_model_module": "@jupyter-widgets/controls",
            "_model_module_version": "1.5.0",
            "_model_name": "HTMLModel",
            "_view_count": null,
            "_view_module": "@jupyter-widgets/controls",
            "_view_module_version": "1.5.0",
            "_view_name": "HTMLView",
            "description": "",
            "description_tooltip": null,
            "layout": "IPY_MODEL_26826bc1034149fa90a622ed464821a4",
            "placeholder": "​",
            "style": "IPY_MODEL_0f994d7dac924782b423ba67d6dbc1b1",
            "value": "Loading pipeline components...: 100%"
          }
        },
        "1bfddb35fc9344da87b2a54118c3668f": {
          "model_module": "@jupyter-widgets/controls",
          "model_name": "FloatProgressModel",
          "model_module_version": "1.5.0",
          "state": {
            "_dom_classes": [],
            "_model_module": "@jupyter-widgets/controls",
            "_model_module_version": "1.5.0",
            "_model_name": "FloatProgressModel",
            "_view_count": null,
            "_view_module": "@jupyter-widgets/controls",
            "_view_module_version": "1.5.0",
            "_view_name": "ProgressView",
            "bar_style": "success",
            "description": "",
            "description_tooltip": null,
            "layout": "IPY_MODEL_632c63cf9ee94e63871443a8211cae33",
            "max": 7,
            "min": 0,
            "orientation": "horizontal",
            "style": "IPY_MODEL_610b4097c4e945cca1ea537b1d447e36",
            "value": 7
          }
        },
        "a24a15d38c084f77938e063ed7ba2a68": {
          "model_module": "@jupyter-widgets/controls",
          "model_name": "HTMLModel",
          "model_module_version": "1.5.0",
          "state": {
            "_dom_classes": [],
            "_model_module": "@jupyter-widgets/controls",
            "_model_module_version": "1.5.0",
            "_model_name": "HTMLModel",
            "_view_count": null,
            "_view_module": "@jupyter-widgets/controls",
            "_view_module_version": "1.5.0",
            "_view_name": "HTMLView",
            "description": "",
            "description_tooltip": null,
            "layout": "IPY_MODEL_e1bddba74a6542648dabc16990a89df6",
            "placeholder": "​",
            "style": "IPY_MODEL_b2510cbbb21641ea82bd4e75fb8b5ee6",
            "value": " 7/7 [00:18&lt;00:00,  2.47s/it]"
          }
        },
        "2d2d6f94be3b4f4d91927a55f1cb6b36": {
          "model_module": "@jupyter-widgets/base",
          "model_name": "LayoutModel",
          "model_module_version": "1.2.0",
          "state": {
            "_model_module": "@jupyter-widgets/base",
            "_model_module_version": "1.2.0",
            "_model_name": "LayoutModel",
            "_view_count": null,
            "_view_module": "@jupyter-widgets/base",
            "_view_module_version": "1.2.0",
            "_view_name": "LayoutView",
            "align_content": null,
            "align_items": null,
            "align_self": null,
            "border": null,
            "bottom": null,
            "display": null,
            "flex": null,
            "flex_flow": null,
            "grid_area": null,
            "grid_auto_columns": null,
            "grid_auto_flow": null,
            "grid_auto_rows": null,
            "grid_column": null,
            "grid_gap": null,
            "grid_row": null,
            "grid_template_areas": null,
            "grid_template_columns": null,
            "grid_template_rows": null,
            "height": null,
            "justify_content": null,
            "justify_items": null,
            "left": null,
            "margin": null,
            "max_height": null,
            "max_width": null,
            "min_height": null,
            "min_width": null,
            "object_fit": null,
            "object_position": null,
            "order": null,
            "overflow": null,
            "overflow_x": null,
            "overflow_y": null,
            "padding": null,
            "right": null,
            "top": null,
            "visibility": null,
            "width": null
          }
        },
        "26826bc1034149fa90a622ed464821a4": {
          "model_module": "@jupyter-widgets/base",
          "model_name": "LayoutModel",
          "model_module_version": "1.2.0",
          "state": {
            "_model_module": "@jupyter-widgets/base",
            "_model_module_version": "1.2.0",
            "_model_name": "LayoutModel",
            "_view_count": null,
            "_view_module": "@jupyter-widgets/base",
            "_view_module_version": "1.2.0",
            "_view_name": "LayoutView",
            "align_content": null,
            "align_items": null,
            "align_self": null,
            "border": null,
            "bottom": null,
            "display": null,
            "flex": null,
            "flex_flow": null,
            "grid_area": null,
            "grid_auto_columns": null,
            "grid_auto_flow": null,
            "grid_auto_rows": null,
            "grid_column": null,
            "grid_gap": null,
            "grid_row": null,
            "grid_template_areas": null,
            "grid_template_columns": null,
            "grid_template_rows": null,
            "height": null,
            "justify_content": null,
            "justify_items": null,
            "left": null,
            "margin": null,
            "max_height": null,
            "max_width": null,
            "min_height": null,
            "min_width": null,
            "object_fit": null,
            "object_position": null,
            "order": null,
            "overflow": null,
            "overflow_x": null,
            "overflow_y": null,
            "padding": null,
            "right": null,
            "top": null,
            "visibility": null,
            "width": null
          }
        },
        "0f994d7dac924782b423ba67d6dbc1b1": {
          "model_module": "@jupyter-widgets/controls",
          "model_name": "DescriptionStyleModel",
          "model_module_version": "1.5.0",
          "state": {
            "_model_module": "@jupyter-widgets/controls",
            "_model_module_version": "1.5.0",
            "_model_name": "DescriptionStyleModel",
            "_view_count": null,
            "_view_module": "@jupyter-widgets/base",
            "_view_module_version": "1.2.0",
            "_view_name": "StyleView",
            "description_width": ""
          }
        },
        "632c63cf9ee94e63871443a8211cae33": {
          "model_module": "@jupyter-widgets/base",
          "model_name": "LayoutModel",
          "model_module_version": "1.2.0",
          "state": {
            "_model_module": "@jupyter-widgets/base",
            "_model_module_version": "1.2.0",
            "_model_name": "LayoutModel",
            "_view_count": null,
            "_view_module": "@jupyter-widgets/base",
            "_view_module_version": "1.2.0",
            "_view_name": "LayoutView",
            "align_content": null,
            "align_items": null,
            "align_self": null,
            "border": null,
            "bottom": null,
            "display": null,
            "flex": null,
            "flex_flow": null,
            "grid_area": null,
            "grid_auto_columns": null,
            "grid_auto_flow": null,
            "grid_auto_rows": null,
            "grid_column": null,
            "grid_gap": null,
            "grid_row": null,
            "grid_template_areas": null,
            "grid_template_columns": null,
            "grid_template_rows": null,
            "height": null,
            "justify_content": null,
            "justify_items": null,
            "left": null,
            "margin": null,
            "max_height": null,
            "max_width": null,
            "min_height": null,
            "min_width": null,
            "object_fit": null,
            "object_position": null,
            "order": null,
            "overflow": null,
            "overflow_x": null,
            "overflow_y": null,
            "padding": null,
            "right": null,
            "top": null,
            "visibility": null,
            "width": null
          }
        },
        "610b4097c4e945cca1ea537b1d447e36": {
          "model_module": "@jupyter-widgets/controls",
          "model_name": "ProgressStyleModel",
          "model_module_version": "1.5.0",
          "state": {
            "_model_module": "@jupyter-widgets/controls",
            "_model_module_version": "1.5.0",
            "_model_name": "ProgressStyleModel",
            "_view_count": null,
            "_view_module": "@jupyter-widgets/base",
            "_view_module_version": "1.2.0",
            "_view_name": "StyleView",
            "bar_color": null,
            "description_width": ""
          }
        },
        "e1bddba74a6542648dabc16990a89df6": {
          "model_module": "@jupyter-widgets/base",
          "model_name": "LayoutModel",
          "model_module_version": "1.2.0",
          "state": {
            "_model_module": "@jupyter-widgets/base",
            "_model_module_version": "1.2.0",
            "_model_name": "LayoutModel",
            "_view_count": null,
            "_view_module": "@jupyter-widgets/base",
            "_view_module_version": "1.2.0",
            "_view_name": "LayoutView",
            "align_content": null,
            "align_items": null,
            "align_self": null,
            "border": null,
            "bottom": null,
            "display": null,
            "flex": null,
            "flex_flow": null,
            "grid_area": null,
            "grid_auto_columns": null,
            "grid_auto_flow": null,
            "grid_auto_rows": null,
            "grid_column": null,
            "grid_gap": null,
            "grid_row": null,
            "grid_template_areas": null,
            "grid_template_columns": null,
            "grid_template_rows": null,
            "height": null,
            "justify_content": null,
            "justify_items": null,
            "left": null,
            "margin": null,
            "max_height": null,
            "max_width": null,
            "min_height": null,
            "min_width": null,
            "object_fit": null,
            "object_position": null,
            "order": null,
            "overflow": null,
            "overflow_x": null,
            "overflow_y": null,
            "padding": null,
            "right": null,
            "top": null,
            "visibility": null,
            "width": null
          }
        },
        "b2510cbbb21641ea82bd4e75fb8b5ee6": {
          "model_module": "@jupyter-widgets/controls",
          "model_name": "DescriptionStyleModel",
          "model_module_version": "1.5.0",
          "state": {
            "_model_module": "@jupyter-widgets/controls",
            "_model_module_version": "1.5.0",
            "_model_name": "DescriptionStyleModel",
            "_view_count": null,
            "_view_module": "@jupyter-widgets/base",
            "_view_module_version": "1.2.0",
            "_view_name": "StyleView",
            "description_width": ""
          }
        }
      }
    }
  },
  "cells": [
    {
      "cell_type": "code",
      "source": [
        "pip install diffusers transformers torch gradio langdetect\n"
      ],
      "metadata": {
        "colab": {
          "base_uri": "https://localhost:8080/"
        },
        "collapsed": true,
        "id": "b3rotv_oY_PK",
        "outputId": "7a5fc26d-e4c1-4e8b-ecee-9d8bf1e91a50"
      },
      "execution_count": 25,
      "outputs": [
        {
          "output_type": "stream",
          "name": "stdout",
          "text": [
            "Requirement already satisfied: diffusers in /usr/local/lib/python3.10/dist-packages (0.30.3)\n",
            "Requirement already satisfied: transformers in /usr/local/lib/python3.10/dist-packages (4.44.2)\n",
            "Requirement already satisfied: torch in /usr/local/lib/python3.10/dist-packages (2.4.1+cu121)\n",
            "Requirement already satisfied: gradio in /usr/local/lib/python3.10/dist-packages (4.44.0)\n",
            "Collecting langdetect\n",
            "  Downloading langdetect-1.0.9.tar.gz (981 kB)\n",
            "\u001b[2K     \u001b[90m━━━━━━━━━━━━━━━━━━━━━━━━━━━━━━━━━━━━━━━━\u001b[0m \u001b[32m981.5/981.5 kB\u001b[0m \u001b[31m11.0 MB/s\u001b[0m eta \u001b[36m0:00:00\u001b[0m\n",
            "\u001b[?25h  Preparing metadata (setup.py) ... \u001b[?25l\u001b[?25hdone\n",
            "Requirement already satisfied: importlib-metadata in /usr/local/lib/python3.10/dist-packages (from diffusers) (8.5.0)\n",
            "Requirement already satisfied: filelock in /usr/local/lib/python3.10/dist-packages (from diffusers) (3.16.1)\n",
            "Requirement already satisfied: huggingface-hub>=0.23.2 in /usr/local/lib/python3.10/dist-packages (from diffusers) (0.24.7)\n",
            "Requirement already satisfied: numpy in /usr/local/lib/python3.10/dist-packages (from diffusers) (1.26.4)\n",
            "Requirement already satisfied: regex!=2019.12.17 in /usr/local/lib/python3.10/dist-packages (from diffusers) (2024.9.11)\n",
            "Requirement already satisfied: requests in /usr/local/lib/python3.10/dist-packages (from diffusers) (2.32.3)\n",
            "Requirement already satisfied: safetensors>=0.3.1 in /usr/local/lib/python3.10/dist-packages (from diffusers) (0.4.5)\n",
            "Requirement already satisfied: Pillow in /usr/local/lib/python3.10/dist-packages (from diffusers) (10.4.0)\n",
            "Requirement already satisfied: packaging>=20.0 in /usr/local/lib/python3.10/dist-packages (from transformers) (24.1)\n",
            "Requirement already satisfied: pyyaml>=5.1 in /usr/local/lib/python3.10/dist-packages (from transformers) (6.0.2)\n",
            "Requirement already satisfied: tokenizers<0.20,>=0.19 in /usr/local/lib/python3.10/dist-packages (from transformers) (0.19.1)\n",
            "Requirement already satisfied: tqdm>=4.27 in /usr/local/lib/python3.10/dist-packages (from transformers) (4.66.5)\n",
            "Requirement already satisfied: typing-extensions>=4.8.0 in /usr/local/lib/python3.10/dist-packages (from torch) (4.12.2)\n",
            "Requirement already satisfied: sympy in /usr/local/lib/python3.10/dist-packages (from torch) (1.13.3)\n",
            "Requirement already satisfied: networkx in /usr/local/lib/python3.10/dist-packages (from torch) (3.3)\n",
            "Requirement already satisfied: jinja2 in /usr/local/lib/python3.10/dist-packages (from torch) (3.1.4)\n",
            "Requirement already satisfied: fsspec in /usr/local/lib/python3.10/dist-packages (from torch) (2024.6.1)\n",
            "Requirement already satisfied: aiofiles<24.0,>=22.0 in /usr/local/lib/python3.10/dist-packages (from gradio) (23.2.1)\n",
            "Requirement already satisfied: anyio<5.0,>=3.0 in /usr/local/lib/python3.10/dist-packages (from gradio) (3.7.1)\n",
            "Requirement already satisfied: fastapi<1.0 in /usr/local/lib/python3.10/dist-packages (from gradio) (0.115.0)\n",
            "Requirement already satisfied: ffmpy in /usr/local/lib/python3.10/dist-packages (from gradio) (0.4.0)\n",
            "Requirement already satisfied: gradio-client==1.3.0 in /usr/local/lib/python3.10/dist-packages (from gradio) (1.3.0)\n",
            "Requirement already satisfied: httpx>=0.24.1 in /usr/local/lib/python3.10/dist-packages (from gradio) (0.27.2)\n",
            "Requirement already satisfied: importlib-resources<7.0,>=1.3 in /usr/local/lib/python3.10/dist-packages (from gradio) (6.4.5)\n",
            "Requirement already satisfied: markupsafe~=2.0 in /usr/local/lib/python3.10/dist-packages (from gradio) (2.1.5)\n",
            "Requirement already satisfied: matplotlib~=3.0 in /usr/local/lib/python3.10/dist-packages (from gradio) (3.7.1)\n",
            "Requirement already satisfied: orjson~=3.0 in /usr/local/lib/python3.10/dist-packages (from gradio) (3.10.7)\n",
            "Requirement already satisfied: pandas<3.0,>=1.0 in /usr/local/lib/python3.10/dist-packages (from gradio) (2.1.4)\n",
            "Requirement already satisfied: pydantic>=2.0 in /usr/local/lib/python3.10/dist-packages (from gradio) (2.9.2)\n",
            "Requirement already satisfied: pydub in /usr/local/lib/python3.10/dist-packages (from gradio) (0.25.1)\n",
            "Requirement already satisfied: python-multipart>=0.0.9 in /usr/local/lib/python3.10/dist-packages (from gradio) (0.0.11)\n",
            "Requirement already satisfied: ruff>=0.2.2 in /usr/local/lib/python3.10/dist-packages (from gradio) (0.6.8)\n",
            "Requirement already satisfied: semantic-version~=2.0 in /usr/local/lib/python3.10/dist-packages (from gradio) (2.10.0)\n",
            "Requirement already satisfied: tomlkit==0.12.0 in /usr/local/lib/python3.10/dist-packages (from gradio) (0.12.0)\n",
            "Requirement already satisfied: typer<1.0,>=0.12 in /usr/local/lib/python3.10/dist-packages (from gradio) (0.12.5)\n",
            "Requirement already satisfied: urllib3~=2.0 in /usr/local/lib/python3.10/dist-packages (from gradio) (2.2.3)\n",
            "Requirement already satisfied: uvicorn>=0.14.0 in /usr/local/lib/python3.10/dist-packages (from gradio) (0.31.0)\n",
            "Requirement already satisfied: websockets<13.0,>=10.0 in /usr/local/lib/python3.10/dist-packages (from gradio-client==1.3.0->gradio) (12.0)\n",
            "Requirement already satisfied: six in /usr/local/lib/python3.10/dist-packages (from langdetect) (1.16.0)\n",
            "Requirement already satisfied: idna>=2.8 in /usr/local/lib/python3.10/dist-packages (from anyio<5.0,>=3.0->gradio) (3.10)\n",
            "Requirement already satisfied: sniffio>=1.1 in /usr/local/lib/python3.10/dist-packages (from anyio<5.0,>=3.0->gradio) (1.3.1)\n",
            "Requirement already satisfied: exceptiongroup in /usr/local/lib/python3.10/dist-packages (from anyio<5.0,>=3.0->gradio) (1.2.2)\n",
            "Requirement already satisfied: starlette<0.39.0,>=0.37.2 in /usr/local/lib/python3.10/dist-packages (from fastapi<1.0->gradio) (0.38.6)\n",
            "Requirement already satisfied: certifi in /usr/local/lib/python3.10/dist-packages (from httpx>=0.24.1->gradio) (2024.8.30)\n",
            "Requirement already satisfied: httpcore==1.* in /usr/local/lib/python3.10/dist-packages (from httpx>=0.24.1->gradio) (1.0.5)\n",
            "Requirement already satisfied: h11<0.15,>=0.13 in /usr/local/lib/python3.10/dist-packages (from httpcore==1.*->httpx>=0.24.1->gradio) (0.14.0)\n",
            "Requirement already satisfied: contourpy>=1.0.1 in /usr/local/lib/python3.10/dist-packages (from matplotlib~=3.0->gradio) (1.3.0)\n",
            "Requirement already satisfied: cycler>=0.10 in /usr/local/lib/python3.10/dist-packages (from matplotlib~=3.0->gradio) (0.12.1)\n",
            "Requirement already satisfied: fonttools>=4.22.0 in /usr/local/lib/python3.10/dist-packages (from matplotlib~=3.0->gradio) (4.53.1)\n",
            "Requirement already satisfied: kiwisolver>=1.0.1 in /usr/local/lib/python3.10/dist-packages (from matplotlib~=3.0->gradio) (1.4.7)\n",
            "Requirement already satisfied: pyparsing>=2.3.1 in /usr/local/lib/python3.10/dist-packages (from matplotlib~=3.0->gradio) (3.1.4)\n",
            "Requirement already satisfied: python-dateutil>=2.7 in /usr/local/lib/python3.10/dist-packages (from matplotlib~=3.0->gradio) (2.8.2)\n",
            "Requirement already satisfied: pytz>=2020.1 in /usr/local/lib/python3.10/dist-packages (from pandas<3.0,>=1.0->gradio) (2024.2)\n",
            "Requirement already satisfied: tzdata>=2022.1 in /usr/local/lib/python3.10/dist-packages (from pandas<3.0,>=1.0->gradio) (2024.1)\n",
            "Requirement already satisfied: annotated-types>=0.6.0 in /usr/local/lib/python3.10/dist-packages (from pydantic>=2.0->gradio) (0.7.0)\n",
            "Requirement already satisfied: pydantic-core==2.23.4 in /usr/local/lib/python3.10/dist-packages (from pydantic>=2.0->gradio) (2.23.4)\n",
            "Requirement already satisfied: click>=8.0.0 in /usr/local/lib/python3.10/dist-packages (from typer<1.0,>=0.12->gradio) (8.1.7)\n",
            "Requirement already satisfied: shellingham>=1.3.0 in /usr/local/lib/python3.10/dist-packages (from typer<1.0,>=0.12->gradio) (1.5.4)\n",
            "Requirement already satisfied: rich>=10.11.0 in /usr/local/lib/python3.10/dist-packages (from typer<1.0,>=0.12->gradio) (13.8.1)\n",
            "Requirement already satisfied: zipp>=3.20 in /usr/local/lib/python3.10/dist-packages (from importlib-metadata->diffusers) (3.20.2)\n",
            "Requirement already satisfied: charset-normalizer<4,>=2 in /usr/local/lib/python3.10/dist-packages (from requests->diffusers) (3.3.2)\n",
            "Requirement already satisfied: mpmath<1.4,>=1.1.0 in /usr/local/lib/python3.10/dist-packages (from sympy->torch) (1.3.0)\n",
            "Requirement already satisfied: markdown-it-py>=2.2.0 in /usr/local/lib/python3.10/dist-packages (from rich>=10.11.0->typer<1.0,>=0.12->gradio) (3.0.0)\n",
            "Requirement already satisfied: pygments<3.0.0,>=2.13.0 in /usr/local/lib/python3.10/dist-packages (from rich>=10.11.0->typer<1.0,>=0.12->gradio) (2.18.0)\n",
            "Requirement already satisfied: mdurl~=0.1 in /usr/local/lib/python3.10/dist-packages (from markdown-it-py>=2.2.0->rich>=10.11.0->typer<1.0,>=0.12->gradio) (0.1.2)\n",
            "Building wheels for collected packages: langdetect\n",
            "  Building wheel for langdetect (setup.py) ... \u001b[?25l\u001b[?25hdone\n",
            "  Created wheel for langdetect: filename=langdetect-1.0.9-py3-none-any.whl size=993221 sha256=fc99a7fbafccc4eef28a8afc259f7a6b138548cee49343719ae98d8bde1f8ea9\n",
            "  Stored in directory: /root/.cache/pip/wheels/95/03/7d/59ea870c70ce4e5a370638b5462a7711ab78fba2f655d05106\n",
            "Successfully built langdetect\n",
            "Installing collected packages: langdetect\n",
            "Successfully installed langdetect-1.0.9\n"
          ]
        }
      ]
    },
    {
      "cell_type": "code",
      "source": [
        "from transformers import MarianMTModel, MarianTokenizer\n",
        "import torch\n",
        "from diffusers import StableDiffusionInstructPix2PixPipeline\n",
        "import gradio as gr\n",
        "from PIL import Image\n",
        "import random\n",
        "from langdetect import detect, LangDetectException\n",
        "\n",
        "# Load the InstructPix2Pix model\n",
        "model_id = \"timbrooks/instruct-pix2pix\"\n",
        "pipe = StableDiffusionInstructPix2PixPipeline.from_pretrained(model_id, torch_dtype=torch.float16)\n",
        "\n",
        "# Check if a GPU is available, otherwise fallback to CPU\n",
        "device = \"cuda\" if torch.cuda.is_available() else \"cpu\"\n",
        "pipe = pipe.to(device)  # Move the model to the appropriate device\n",
        "\n",
        "\n",
        "# Load the translation model (from Arabic to English)\n",
        "translation_model_name = 'Helsinki-NLP/opus-mt-ar-en'\n",
        "translation_tokenizer = MarianTokenizer.from_pretrained(translation_model_name)\n",
        "translation_model = MarianMTModel.from_pretrained(translation_model_name)\n",
        "\n",
        "\n",
        "# Initialize a random seed\n",
        "seed = random.randint(0, 10000)"
      ],
      "metadata": {
        "colab": {
          "base_uri": "https://localhost:8080/",
          "height": 217,
          "referenced_widgets": [
            "437d45eaeece4d54b18b6cfc5eeb576d",
            "9f8bb0fcd139480ba543bf382b7ae84a",
            "1bfddb35fc9344da87b2a54118c3668f",
            "a24a15d38c084f77938e063ed7ba2a68",
            "2d2d6f94be3b4f4d91927a55f1cb6b36",
            "26826bc1034149fa90a622ed464821a4",
            "0f994d7dac924782b423ba67d6dbc1b1",
            "632c63cf9ee94e63871443a8211cae33",
            "610b4097c4e945cca1ea537b1d447e36",
            "e1bddba74a6542648dabc16990a89df6",
            "b2510cbbb21641ea82bd4e75fb8b5ee6"
          ]
        },
        "id": "TUVPRLi9YPyE",
        "outputId": "15604b51-f687-4485-b74d-b38fbf732b9f"
      },
      "execution_count": 26,
      "outputs": [
        {
          "output_type": "display_data",
          "data": {
            "text/plain": [
              "Loading pipeline components...:   0%|          | 0/7 [00:00<?, ?it/s]"
            ],
            "application/vnd.jupyter.widget-view+json": {
              "version_major": 2,
              "version_minor": 0,
              "model_id": "437d45eaeece4d54b18b6cfc5eeb576d"
            }
          },
          "metadata": {}
        },
        {
          "output_type": "stream",
          "name": "stderr",
          "text": [
            "/usr/local/lib/python3.10/dist-packages/transformers/tokenization_utils_base.py:1601: FutureWarning: `clean_up_tokenization_spaces` was not set. It will be set to `True` by default. This behavior will be depracted in transformers v4.45, and will be then set to `False` by default. For more details check this issue: https://github.com/huggingface/transformers/issues/31884\n",
            "  warnings.warn(\n",
            "Pipelines loaded with `dtype=torch.float16` cannot run with `cpu` device. It is not recommended to move them to `cpu` as running them will fail. Please make sure to use an accelerator to run the pipeline in inference, due to the lack of support for`float16` operations on this device in PyTorch. Please, remove the `torch_dtype=torch.float16` argument, or use another device for inference.\n",
            "Pipelines loaded with `dtype=torch.float16` cannot run with `cpu` device. It is not recommended to move them to `cpu` as running them will fail. Please make sure to use an accelerator to run the pipeline in inference, due to the lack of support for`float16` operations on this device in PyTorch. Please, remove the `torch_dtype=torch.float16` argument, or use another device for inference.\n",
            "Pipelines loaded with `dtype=torch.float16` cannot run with `cpu` device. It is not recommended to move them to `cpu` as running them will fail. Please make sure to use an accelerator to run the pipeline in inference, due to the lack of support for`float16` operations on this device in PyTorch. Please, remove the `torch_dtype=torch.float16` argument, or use another device for inference.\n",
            "Pipelines loaded with `dtype=torch.float16` cannot run with `cpu` device. It is not recommended to move them to `cpu` as running them will fail. Please make sure to use an accelerator to run the pipeline in inference, due to the lack of support for`float16` operations on this device in PyTorch. Please, remove the `torch_dtype=torch.float16` argument, or use another device for inference.\n",
            "/usr/local/lib/python3.10/dist-packages/transformers/models/marian/tokenization_marian.py:175: UserWarning: Recommended: pip install sacremoses.\n",
            "  warnings.warn(\"Recommended: pip install sacremoses.\")\n"
          ]
        }
      ]
    },
    {
      "cell_type": "code",
      "source": [
        "# Function to reset the seed (style change)\n",
        "def change_style():\n",
        "    global seed\n",
        "    seed = torch.manual_seed(torch.randint(0, 10000, (1,)).item())\n",
        "    return f\"تم تغيير النمط. المعرف الجديد: {seed}\""
      ],
      "metadata": {
        "id": "HqGTk8FG3_7m"
      },
      "execution_count": 8,
      "outputs": []
    },
    {
      "cell_type": "code",
      "source": [
        "# Function to detect whether the text is in Arabic using langdetect\n",
        "def is_arabic(text):\n",
        "    try:\n",
        "        return detect(text) == 'ar'\n",
        "    except LangDetectException:\n",
        "        return False  # If detection fails, assume it's not Arabic"
      ],
      "metadata": {
        "id": "6a5VJ82LDG7D"
      },
      "execution_count": 27,
      "outputs": []
    },
    {
      "cell_type": "code",
      "source": [
        "# Dictionary to map Arabic to English colors\n",
        "arabic_to_english_colors = {\n",
        "    \"أبيض\": \"White\",\n",
        "    \"أسود\": \"Black\",\n",
        "    \"أزرق\": \"Blue\",\n",
        "    \"أخضر\": \"Green\",\n",
        "    \"أحمر\": \"Red\",\n",
        "    \"أصفر\": \"Yellow\",\n",
        "    \"رمادي\": \"Gray\",\n",
        "    \"برتقالي\": \"Orange\",\n",
        "    \"بنفسجي\": \"Purple\",\n",
        "    \"وردي\": \"Pink\",\n",
        "    \"بني\": \"Brown\",\n",
        "    \"كحلي\": \"Navy\",\n",
        "    \"زهري\": \"Coral\",\n",
        "    \"فيروزي\": \"Teal\",\n",
        "    \"بيج\": \"Beige\"\n",
        "}\n",
        "\n",
        "# List of English colors\n",
        "english_colors = [\n",
        "    \"White\", \"Black\", \"Blue\", \"Green\", \"Red\", \"Yellow\",\n",
        "    \"Gray\", \"Orange\", \"Purple\", \"Pink\", \"Brown\",\n",
        "    \"Navy\", \"Coral\", \"Teal\", \"Beige\"\n",
        "]\n",
        "\n",
        "# Function to translate Arabic color to English and change the wall color\n",
        "def change_color(image, arabic_color, english_color):\n",
        "    # If a color is chosen from the Arabic dropdown, use it, otherwise use the English dropdown\n",
        "    if arabic_color:\n",
        "        color_in_english = arabic_to_english_colors.get(arabic_color)\n",
        "    elif english_color:\n",
        "        color_in_english = english_color\n",
        "    else:\n",
        "        return \"Please select a color.\"\n",
        "\n",
        "    # Construct the prompt to change the wall color\n",
        "    prompt = f\"paint the walls with {color_in_english} color\"\n",
        "\n",
        "    # Text CFG (guidance_scale) controls how strongly the model follows the prompt\n",
        "    text_cfg = 7.5\n",
        "\n",
        "    # Image CFG: Simulated value for preserving the original image content\n",
        "    image_cfg = 1.5\n",
        "\n",
        "    # Apply the edit using InstructPix2Pix\n",
        "    edited_image = pipe(\n",
        "        prompt=prompt,\n",
        "        image=image,\n",
        "        num_inference_steps=70,            # Number of diffusion steps\n",
        "        guidance_scale=text_cfg,           # Text CFG for following the prompt\n",
        "        image_guidance_scale=image_cfg,    # Simulated Image CFG to preserve image content\n",
        "        generator=torch.manual_seed(seed)  # Random seed for consistency\n",
        "    ).images[0]\n",
        "\n",
        "    return edited_image"
      ],
      "metadata": {
        "id": "GEfJlz9P4WTo"
      },
      "execution_count": 28,
      "outputs": []
    },
    {
      "cell_type": "code",
      "source": [
        "# Gradio interface for image editing with separate Arabic and English color dropdowns\n",
        "def image_interface():\n",
        "    with gr.Blocks(css=\".gradio-container {direction: rtl}\") as demo_color:\n",
        "        gr.Markdown(\"## تطبيق لتغيير لون الجدران\")\n",
        "\n",
        "        # Image upload (translated to Arabic)\n",
        "        image_input = gr.Image(type=\"pil\", label=\"قم برفع صورة للغرفة\")\n",
        "\n",
        "        # Dropdown for Arabic wall color\n",
        "        arabic_color_input = gr.Dropdown(list(arabic_to_english_colors.keys()), label=\"اختر لون الجدران (بالعربية)\")\n",
        "\n",
        "        # Dropdown for English wall color\n",
        "        english_color_input = gr.Dropdown(english_colors, label=\"Choose Wall Color (English)\")\n",
        "\n",
        "        # Display output image\n",
        "        result_image = gr.Image(label=\"الصورة المعدلة\")\n",
        "\n",
        "        # Button to apply the wall color transformation\n",
        "        submit_button = gr.Button(\"قم بتغيير لون الجدران\")\n",
        "\n",
        "        # Define action on button click (directly pass dropdown color input to the function)\n",
        "        submit_button.click(fn=change_color, inputs=[image_input, arabic_color_input, english_color_input], outputs=result_image)\n",
        "\n",
        "    return demo_color"
      ],
      "metadata": {
        "id": "SJky_uRv4a8a"
      },
      "execution_count": 29,
      "outputs": []
    },
    {
      "cell_type": "code",
      "source": [
        "# Function to translate Arabic prompt to English\n",
        "def translate_prompt(prompt_ar):\n",
        "    translated_tokens = translation_tokenizer(prompt_ar, return_tensors=\"pt\", truncation=True)\n",
        "    translated = translation_model.generate(**translated_tokens)\n",
        "    prompt_en = translation_tokenizer.decode(translated[0], skip_special_tokens=True)\n",
        "    return prompt_en"
      ],
      "metadata": {
        "id": "Cvylt0p7vcke"
      },
      "execution_count": 30,
      "outputs": []
    },
    {
      "cell_type": "code",
      "source": [
        "print(translate_prompt(\"اجعله الجو مثلج\"))"
      ],
      "metadata": {
        "colab": {
          "base_uri": "https://localhost:8080/"
        },
        "id": "RsmgNMnbwTvN",
        "outputId": "c2693a9b-8408-498c-b908-54a1926d6298"
      },
      "execution_count": 17,
      "outputs": [
        {
          "output_type": "stream",
          "name": "stdout",
          "text": [
            "Make it snowy.\n"
          ]
        }
      ]
    },
    {
      "cell_type": "code",
      "source": [
        "# General image editing function (supports both Arabic and English)\n",
        "def edit_image(image, instruction):\n",
        "    # Detect if the instruction is in Arabic\n",
        "    if is_arabic(instruction):\n",
        "        # Translate Arabic instruction to English\n",
        "        instruction_en = translate_prompt(instruction)\n",
        "    else:\n",
        "        # If it's in English, use it directly\n",
        "        instruction_en = instruction\n",
        "\n",
        "    # Text CFG (guidance_scale) controls how strongly the model follows the prompt\n",
        "    text_cfg = 12.0\n",
        "\n",
        "    # Image CFG: Simulated value for preserving the original image content\n",
        "    image_cfg = 1.5\n",
        "\n",
        "    # Apply the edit using InstructPix2Pix with the translated prompt\n",
        "    edited_image = pipe(\n",
        "        prompt=instruction_en,\n",
        "        image=image,\n",
        "        num_inference_steps=70,            # Number of diffusion steps\n",
        "        guidance_scale=text_cfg,           # Text CFG for following the prompt\n",
        "        image_guidance_scale=image_cfg,    # Simulated Image CFG to preserve image content\n",
        "        generator=torch.manual_seed(seed)  # Random seed for consistency\n",
        "    ).images[0]\n",
        "\n",
        "    return edited_image"
      ],
      "metadata": {
        "id": "7mFGa0ge4YaQ"
      },
      "execution_count": 32,
      "outputs": []
    },
    {
      "cell_type": "code",
      "source": [
        "# Gradio interface for general image editing in Arabic and English\n",
        "def general_editing_interface():\n",
        "    with gr.Blocks(css=\".gradio-container {direction: rtl}\") as demo_general:\n",
        "        gr.Markdown(\"## تطبيق تحرير الصور العام\")\n",
        "\n",
        "        # Image upload in Arabic and English\n",
        "        image_input = gr.Image(type=\"pil\", label=\"قم بتحميل صورة\")\n",
        "\n",
        "        # Textbox for instruction in Arabic or English\n",
        "        instruction_input = gr.Textbox(label=\"أدخل التعليمات\", placeholder=\"وصف التعديلات (مثل: 'اجعل الجو مثلج') أو 'Make it snowy'\")\n",
        "\n",
        "        # Display output image\n",
        "        result_image = gr.Image(label=\"الصورة المعدلة\")\n",
        "\n",
        "        # Button to apply the transformation\n",
        "        submit_button = gr.Button(\"تطبيق التعديلات\")\n",
        "\n",
        "        # Button to change the seed (style)\n",
        "        change_style_button = gr.Button(\"تغيير النمط\")\n",
        "\n",
        "        # Output for seed change message\n",
        "        seed_output = gr.Textbox(label=\"معلومات النمط\", interactive=False)\n",
        "\n",
        "        # Define action on button click\n",
        "        submit_button.click(fn=edit_image, inputs=[image_input, instruction_input], outputs=result_image)\n",
        "        change_style_button.click(fn=change_style, outputs=seed_output)\n",
        "\n",
        "    return demo_general"
      ],
      "metadata": {
        "id": "Zt-VIwdP4eCp"
      },
      "execution_count": 33,
      "outputs": []
    },
    {
      "cell_type": "code",
      "source": [
        "# Launch both Gradio apps\n",
        "color_app = image_interface()\n",
        "general_editing_app = general_editing_interface()\n",
        "\n",
        "with gr.Blocks(css=\".gradio-container {direction: rtl}\") as combined_demo:\n",
        "    gr.Markdown(\"## اختر التطبيق\")\n",
        "\n",
        "    with gr.Tab(\"تطبيق تحرير الصور \"):\n",
        "        general_editing_app.render()\n",
        "\n",
        "    with gr.Tab(\"تطبيق تغيير لون الطلاء\"):\n",
        "        color_app.render()\n",
        "\n",
        "# Launch the combined Gradio app\n",
        "combined_demo.launch()"
      ],
      "metadata": {
        "colab": {
          "base_uri": "https://localhost:8080/",
          "height": 653
        },
        "id": "OyExRQ2g4hZJ",
        "outputId": "9ce6be67-186c-4a7f-f8a7-c60d98e46635"
      },
      "execution_count": 34,
      "outputs": [
        {
          "output_type": "stream",
          "name": "stdout",
          "text": [
            "Setting queue=True in a Colab notebook requires sharing enabled. Setting `share=True` (you can turn this off by setting `share=False` in `launch()` explicitly).\n",
            "\n",
            "Colab notebook detected. To show errors in colab notebook, set debug=True in launch()\n",
            "Running on public URL: https://028464a56df9599528.gradio.live\n",
            "\n",
            "This share link expires in 72 hours. For free permanent hosting and GPU upgrades, run `gradio deploy` from Terminal to deploy to Spaces (https://huggingface.co/spaces)\n"
          ]
        },
        {
          "output_type": "display_data",
          "data": {
            "text/plain": [
              "<IPython.core.display.HTML object>"
            ],
            "text/html": [
              "<div><iframe src=\"https://028464a56df9599528.gradio.live\" width=\"100%\" height=\"500\" allow=\"autoplay; camera; microphone; clipboard-read; clipboard-write;\" frameborder=\"0\" allowfullscreen></iframe></div>"
            ]
          },
          "metadata": {}
        },
        {
          "output_type": "execute_result",
          "data": {
            "text/plain": []
          },
          "metadata": {},
          "execution_count": 34
        }
      ]
    },
    {
      "cell_type": "code",
      "source": [],
      "metadata": {
        "id": "aE7ddm7h4kp0"
      },
      "execution_count": 54,
      "outputs": []
    }
  ]
}
